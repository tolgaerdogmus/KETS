{
 "nbformat": 4,
 "nbformat_minor": 0,
 "metadata": {
  "colab": {
   "provenance": [],
   "include_colab_link": true
  },
  "kernelspec": {
   "name": "python3",
   "display_name": "Python 3"
  },
  "language_info": {
   "name": "python"
  }
 },
 "cells": [
  {
   "cell_type": "markdown",
   "metadata": {
    "id": "view-in-github",
    "colab_type": "text"
   },
   "source": [
    "<a href=\"https://colab.research.google.com/github/tolgaerdogmus/KETS/blob/main/movie_rec.ipynb\" target=\"_parent\"><img src=\"https://colab.research.google.com/assets/colab-badge.svg\" alt=\"Open In Colab\"/></a>"
   ]
  },
  {
   "cell_type": "code",
   "execution_count": 13,
   "metadata": {
    "id": "ZfCZc1zatg40"
   },
   "source": [
    "import pandas as pd\n",
    "import numpy as np\n",
    "\n",
    "from sklearn.feature_extraction.text import TfidfVectorizer\n",
    "from sklearn.metrics.pairwise import cosine_similarity\n",
    "\n",
    "\n",
    "\n",
    "pd.set_option('display.max_columns', None)\n",
    "pd.set_option('display.float_format', lambda x: '%.3f' % x)\n",
    "pd.set_option('display.width', 500)\n",
    "pd.set_option('display.expand_frame_repr', False)"
   ],
   "outputs": []
  },
  {
   "cell_type": "code",
   "source": [
    "df = pd.read_csv('/content/movies.csv', low_memory=False) # DtypeWarning kapatmak icin"
   ],
   "metadata": {
    "id": "Hczx0Wtl0O5t"
   },
   "execution_count": 14,
   "outputs": []
  },
  {
   "cell_type": "code",
   "source": [
    "df['GENRES'] = df['GENRES'].str.lower()"
   ],
   "metadata": {
    "id": "-zGjYaOi04ft"
   },
   "execution_count": 15,
   "outputs": []
  },
  {
   "cell_type": "code",
   "source": [
    "df.head()"
   ],
   "metadata": {
    "colab": {
     "base_uri": "https://localhost:8080/",
     "height": 293
    },
    "id": "dTn28LZSMqyD",
    "outputId": "924c80cf-2672-4b32-d6fd-a17df096d2a2"
   },
   "execution_count": 17,
   "outputs": []
  },
  {
   "cell_type": "code",
   "source": [
    "df.info()"
   ],
   "metadata": {
    "colab": {
     "base_uri": "https://localhost:8080/"
    },
    "id": "2u8R-C_Z0INk",
    "outputId": "ca4583bc-40a4-43e5-ffc2-b75266cbe830"
   },
   "execution_count": 18,
   "outputs": []
  },
  {
   "cell_type": "code",
   "source": [
    "df['TYPE'].value_counts()"
   ],
   "metadata": {
    "colab": {
     "base_uri": "https://localhost:8080/",
     "height": 429
    },
    "id": "2a667jPf0auq",
    "outputId": "0f787be5-796a-4850-9f60-d630b9924e6c"
   },
   "execution_count": null,
   "outputs": []
  },
  {
   "cell_type": "code",
   "source": [
    "##################################################################################################\n",
    "# FILTRELEME YONTEMI ILE TAVSIYE KODLARI\n",
    "##################################################################################################\n",
    "def recommend_top(df, genre='comedy', media_type='movie', count=1, vote_threshold = 500):\n",
    "    # Filter the dataset by the selected genre and type\n",
    "    # GENRE ve TYPE e gore filtrele\n",
    "    # VOTE_COUNT u belli bir sayidan fazla olsun\n",
    "    genre_filter = df['GENRES'].str.contains(genre, case=False, na=False)\n",
    "    type_filter = df['TYPE'].str.contains(media_type, case=False, na=False)\n",
    "    vote_count_filter = df['VOTE_COUNT'] > vote_threshold\n",
    "    filtered_df = df[genre_filter & type_filter & vote_count_filter]\n",
    "\n",
    "    # Sort the filtered dataset by average rating in descending order and select the top 10\n",
    "    # Filtrelenmis datasetini AVG_RATING e gore sirala ve en bastan 10 tane getir\n",
    "    top_10 = filtered_df.sort_values(by='AVG_RATING', ascending=False).head(count)\n",
    "\n",
    "    # Select relevant columns to display\n",
    "    top_10_recommendations = top_10[['TCONST', 'ORIGINAL_TITLE', 'TYPE', 'AVG_RATING', 'VOTE_COUNT', 'GENRES']]\n",
    "\n",
    "    return top_10_recommendations\n"
   ],
   "metadata": {
    "id": "Va8-LMtM0jPs"
   },
   "execution_count": null,
   "outputs": []
  },
  {
   "cell_type": "code",
   "source": [
    "# Example usage: Recommend top 10 popular movies for the genre 'Horror', vote count > 50k\n",
    "# Ornek kullanim: en populer 10 adet Horror turu ve oy sayisi 50binin uzerinde\n",
    "recommend_top(df, 'comedy', 'movie', count= 10, vote_threshold=50000)"
   ],
   "metadata": {
    "colab": {
     "base_uri": "https://localhost:8080/",
     "height": 363
    },
    "id": "PCI1vX4k0muC",
    "outputId": "ac850553-e8ba-4f14-bd18-6a7b9c0b2379"
   },
   "execution_count": null,
   "outputs": []
  },
  {
   "cell_type": "code",
   "source": [
    "def recommend_most_popular_per_genre(df):\n",
    "    # Create an empty list to store recommendations\n",
    "    # Tavsiye icin bos bir liste tanimla\n",
    "    recommendations = []\n",
    "\n",
    "    # Get all unique genres\n",
    "    # Tum virgul ile ayrilmis genreleri tek tek al\n",
    "    all_genres = set(genre for sublist in df['GENRES'].dropna().str.split(',') for genre in sublist)\n",
    "\n",
    "    for genre in all_genres:\n",
    "        # Filter the dataset by the selected genre\n",
    "        # genre basina veri setini filtrele\n",
    "        genre_filter = df['GENRES'].str.contains(genre, case=False, na=False)\n",
    "        filtered_df = df[genre_filter]\n",
    "\n",
    "        if not filtered_df.empty:\n",
    "            # Get the most popular movie for this genre\n",
    "            # Genre icin en vote_countu ve avg_rating i yuksekleri diz ve birinci elemani al\n",
    "            most_popular = filtered_df.sort_values(by=['VOTE_COUNT', 'AVG_RATING'], ascending=False).iloc[0]\n",
    "            recommendations.append(most_popular)\n",
    "\n",
    "    # Create a DataFrame for the recommendations\n",
    "    # Data frame e cevir\n",
    "    recommendations_df = pd.DataFrame(recommendations)\n",
    "\n",
    "    # Ensure the DataFrame has the required columns\n",
    "    # Gereken kolonlarin olup olmadigini kontrol et\n",
    "    if not recommendations_df.empty:\n",
    "        # Select relevant columns to display, ensuring all columns exist\n",
    "        # Gosterilecek kolonlari sec\n",
    "        columns_to_display = ['TCONST', 'ORIGINAL_TITLE', 'TYPE', 'AVG_RATING', 'VOTE_COUNT', 'GENRES']\n",
    "        recommendations_df = recommendations_df[[\n",
    "            col for col in columns_to_display if col in recommendations_df.columns\n",
    "        ]]\n",
    "\n",
    "    return recommendations_df\n"
   ],
   "metadata": {
    "id": "mmTEpd6b1HpW"
   },
   "execution_count": null,
   "outputs": []
  },
  {
   "cell_type": "code",
   "source": [
    "print(recommend_most_popular_per_genre(df))"
   ],
   "metadata": {
    "colab": {
     "base_uri": "https://localhost:8080/"
    },
    "id": "elthlQOW1OcQ",
    "outputId": "2eb855f8-315c-4ec8-cf07-6ef27d75aa10"
   },
   "execution_count": null,
   "outputs": []
  },
  {
   "cell_type": "code",
   "source": [
    "#Text alanlarını birleştirme\n",
    "df['combined_features'] = df['ORIGINAL_TITLE'] + ' ' + df['GENRES'] + ' ' + df['DIRECTORS']\n",
    "# Replace periods (.) with empty strings and commas (,) with spaces\n",
    "df['combined_features'] = df['combined_features'].str.replace('.', '', regex=False)\n",
    "df['combined_features'] = df['combined_features'].str.replace(',', ' ', regex=False)\n",
    "df['combined_features'] = df['combined_features'].str.lower()"
   ],
   "metadata": {
    "id": "A1s5cO-_Etn_"
   },
   "execution_count": 20,
   "outputs": []
  },
  {
   "cell_type": "code",
   "source": [
    "#########################################################\n",
    "# Shrink dataframe for cosine sim - BURADA KIRPMAK ZORUNDA KALDİM\n",
    "filt_df = df[(df['VOTE_COUNT'] > 2000) & (df['TYPE'] == 'movie')]"
   ],
   "metadata": {
    "id": "CP0KU5Aa5gAj"
   },
   "execution_count": 21,
   "outputs": []
  },
  {
   "cell_type": "code",
   "source": [
    "# reset index cunku out of bounds hatasi veriyor sonra\n",
    "filt_df = filt_df.reset_index(drop=True)\n",
    "filt_df.shape"
   ],
   "metadata": {
    "colab": {
     "base_uri": "https://localhost:8080/"
    },
    "id": "LpF4sgPM50jt",
    "outputId": "5a0292e0-1307-4547-9bee-5fecca344992"
   },
   "execution_count": 22,
   "outputs": []
  },
  {
   "cell_type": "code",
   "source": [
    "filt_df.head()"
   ],
   "metadata": {
    "colab": {
     "base_uri": "https://localhost:8080/",
     "height": 206
    },
    "id": "DnIsjUjVFYy7",
    "outputId": "95dc0e5e-9ac3-4dff-bfde-b75ee26f2a87"
   },
   "execution_count": null,
   "outputs": []
  },
  {
   "cell_type": "code",
   "source": [
    "##################################################################################################\n",
    "# ICERIK TEMELLI FILTRELEME YONTEMI ILE TAVSIYE KODLARI - GENRES\n",
    "##################################################################################################\n",
    "# GENRES KISMININ MATEMATIKSEL OLARAK TEMSILI ICIN METIN VEKTORLESTIRME\n",
    "\n",
    "# Tek basina anlam tasimayan ingilizce kelimeleri cikar orn: and, or, of vs.\n",
    "tfidf = TfidfVectorizer(stop_words='english')\n",
    "\n",
    "# df[df['GENRES'].isnull()] # bos yok\n",
    "\n",
    "# TF-IDF Matrisinin olusturulmasi\n",
    "tfidf_matrix = tfidf.fit_transform(filt_df['combined_features'])"
   ],
   "metadata": {
    "id": "TA1RX1K81ea7"
   },
   "execution_count": 24,
   "outputs": []
  },
  {
   "cell_type": "code",
   "source": [
    "tfidf_matrix.shape\n"
   ],
   "metadata": {
    "colab": {
     "base_uri": "https://localhost:8080/"
    },
    "id": "uRkpJLOp1p7M",
    "outputId": "f6d1df99-dbf3-453e-9d80-5ce98d4b7355"
   },
   "execution_count": 25,
   "outputs": []
  },
  {
   "cell_type": "code",
   "source": [
    "tfidf.get_feature_names_out()"
   ],
   "metadata": {
    "colab": {
     "base_uri": "https://localhost:8080/"
    },
    "id": "fk2KAYTh1xoQ",
    "outputId": "4bba55c7-d4f6-4837-8050-501116eb9b2a"
   },
   "execution_count": 26,
   "outputs": []
  },
  {
   "cell_type": "code",
   "source": [
    "# Cosine Similarity Matrisinin Olusturulmasi\n",
    "cosine_sim = cosine_similarity(tfidf_matrix)"
   ],
   "metadata": {
    "id": "Yk46knA611Ni"
   },
   "execution_count": 27,
   "outputs": []
  },
  {
   "cell_type": "code",
   "source": [
    "# Benzerliklere gore onerilerin yapilmasi\n",
    "indices = pd.Series(filt_df.index, index=filt_df['ORIGINAL_TITLE'])"
   ],
   "metadata": {
    "id": "reLmTFnn8GHA"
   },
   "execution_count": 28,
   "outputs": []
  },
  {
   "cell_type": "code",
   "source": [
    "# Ayni isimdekileri sil sadece sonuncusunu birak\n",
    "indices = indices[~indices.index.duplicated(keep='last')]\n"
   ],
   "metadata": {
    "id": "mmVEv_AZ9CdR"
   },
   "execution_count": 29,
   "outputs": []
  },
  {
   "cell_type": "code",
   "source": [
    "movie_index = indices['Se7en']"
   ],
   "metadata": {
    "id": "BvDiuT7LCWFe"
   },
   "execution_count": 30,
   "outputs": []
  },
  {
   "cell_type": "code",
   "source": [
    "def get_similar_movies(movie_index, cosine_sim, df, top_n=5):\n",
    "    if 0 <= movie_index < len(cosine_sim):\n",
    "        similarity_scores = list(enumerate(cosine_sim[movie_index]))\n",
    "        similarity_scores = sorted(similarity_scores, key=lambda x: x[1], reverse=True)\n",
    "        movie_indices = [i for i, _ in similarity_scores[1:top_n+1]]  # Exclude the movie itself\n",
    "        return df.iloc[movie_indices]\n",
    "    else:\n",
    "        return f\"Index {movie_index} is out of bounds.\"\n",
    "\n",
    "# Example usage\n",
    "movie_index = indices['Se7en'] # Replace with the index of the movie you want to find similarities for\n",
    "similar_movies_df = get_similar_movies(movie_index, cosine_sim, df)\n",
    "\n",
    "print(similar_movies_df)"
   ],
   "metadata": {
    "colab": {
     "base_uri": "https://localhost:8080/"
    },
    "id": "ZVYrYnpLECkV",
    "outputId": "dbde0f56-d3a2-469e-a5e8-5dc686ac8c0f"
   },
   "execution_count": 31,
   "outputs": []
  }
 ]
}
