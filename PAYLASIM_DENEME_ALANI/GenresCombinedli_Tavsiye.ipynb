{
 "cells": [
  {
   "cell_type": "code",
   "execution_count": 7,
   "id": "d951379f",
   "metadata": {},
   "source": [
    "import pandas as pd\n",
    "import numpy as np\n",
    "import matplotlib.pyplot as plt\n",
    "import seaborn as sns\n",
    "sns.set(style=\"darkgrid\")\n",
    "plt.style.use(\"seaborn-pastel\")\n",
    "from sklearn import preprocessing\n",
    "pd.set_option('display.max_columns', None)\n",
    "pd.set_option('display.float_format', lambda x: '%.3f' % x)\n",
    "pd.set_option('display.width', 500)\n",
    "pd.set_option('display.max_rows', 200)\n",
    "import warnings\n",
    "warnings.filterwarnings(\"ignore\")"
   ],
   "outputs": []
  },
  {
   "cell_type": "code",
   "execution_count": 8,
   "id": "c7ca6907",
   "metadata": {},
   "source": [
    "df=pd.read_csv('movies.csv')\n",
    "df.head()"
   ],
   "outputs": []
  },
  {
   "cell_type": "code",
   "execution_count": 9,
   "id": "e9a37fcc",
   "metadata": {},
   "source": [
    "#df['IS_ADULT'].value_counts()\n",
    "df=df[df['IS_ADULT']!=1]"
   ],
   "outputs": []
  },
  {
   "cell_type": "code",
   "execution_count": 10,
   "id": "af0e6bce",
   "metadata": {},
   "source": [
    "df=df.drop(columns=['Unnamed: 0', 'POPULARITY', 'OVERVIEW', 'POSTER_PATH', 'IS_ADULT'])"
   ],
   "outputs": []
  },
  {
   "cell_type": "code",
   "execution_count": 11,
   "id": "43af911e",
   "metadata": {},
   "source": [
    "df.head()"
   ],
   "outputs": []
  },
  {
   "cell_type": "code",
   "execution_count": 12,
   "id": "34e5f526",
   "metadata": {},
   "source": [
    "def check_detail(dataframe):\n",
    "    d = {'SHAPE': dataframe.shape,\n",
    "        'COLUMNS': dataframe.columns,\n",
    "        'INDEX': dataframe.index,\n",
    "        'VALUE TYPES': dataframe.dtypes,\n",
    "        'DUPLICATED VALUES': dataframe.duplicated().sum(),\n",
    "        'NUMBER OF UNIQUE VALUES': dataframe.nunique(),\n",
    "        'ANY MISSING VALUES': dataframe.isnull().values.any(),\n",
    "        'MISSING VALUES': dataframe.isnull().sum(),\n",
    "        'DESCRIBE.T': dataframe.describe([0, 0.05, 0.50, 0.95, 0.99, 1]).T}\n",
    "    hashtags = '---------------------------'\n",
    "    for key, val in d.items():\n",
    "        print(f'{hashtags} {key} {hashtags}')\n",
    "        print(val)\n",
    "    print(f'{hashtags} {\"LIST END\"} {hashtags}')\n",
    "   \n",
    "\n",
    "check_detail(dataframe=df)"
   ],
   "outputs": []
  },
  {
   "cell_type": "code",
   "execution_count": 13,
   "id": "18ab892b",
   "metadata": {},
   "source": [
    "def grab_col_names(dataframe, cat_th=10, car_th=20):\n",
    "    cat_cols = [col for col in dataframe.columns if dataframe[col].dtype == 'O']  # Categorical columns\n",
    "    num_but_cat = [col for col in dataframe.columns if\n",
    "                   dataframe[col].nunique() < cat_th and dataframe[col].dtype != 'O']  # Numeric but categorical\n",
    "    cat_but_car = [col for col in dataframe.columns if\n",
    "                   dataframe[col].nunique() > car_th and dataframe[col].dtype == 'O']  # Categorical but cardinal\n",
    "    cat_cols += num_but_cat  # Combine categorical columns\n",
    "    cat_cols = [col for col in cat_cols if col not in cat_but_car]  # Exclude cardinal columns from categorical columns\n",
    "\n",
    "    num_cols = [col for col in dataframe.columns if dataframe[col].dtype != 'O']  # Numerical columns\n",
    "    num_cols = [col for col in num_cols if col not in num_but_cat]  # Exclude numeric-looking categories\n",
    "\n",
    "    print(f'Observations: {dataframe.shape[0]}')\n",
    "    print(f'Variables: {dataframe.shape[1]}')\n",
    "    print(f'cat_cols: {len(cat_cols)}')\n",
    "    print(f'num_cols: {len(num_cols)}')\n",
    "    print(f'cat_but_car: {len(cat_but_car)}')\n",
    "    print(f'num_but_cat: {len(num_but_cat)}')\n",
    "\n",
    "    return cat_cols, num_cols, cat_but_car"
   ],
   "outputs": []
  },
  {
   "cell_type": "code",
   "execution_count": 14,
   "id": "cb7fcdd5",
   "metadata": {},
   "source": [
    "def identify_check(dataframe):\n",
    "    print('-' * 80)\n",
    "    print(f'Categorical : {cat_cols}')\n",
    "    print('-' * 80)\n",
    "    print(f'Numerical : {num_cols}')\n",
    "    print('-' * 80)\n",
    "    print(f'Categorical but Cardinal : {cat_but_car}')\n",
    "\n",
    "cat_cols, num_cols, cat_but_car = grab_col_names(df)\n",
    "identify_check(df)"
   ],
   "outputs": []
  },
  {
   "cell_type": "code",
   "execution_count": 15,
   "id": "085b8971",
   "metadata": {},
   "source": [
    "df.TYPE.value_counts().plot.pie(autopct=\"%.0f%%\",figsize=(6,6),pctdistance=0.8,\n",
    "                                                 wedgeprops=dict(width=0.4))\n",
    "plt.show()"
   ],
   "outputs": []
  },
  {
   "cell_type": "code",
   "execution_count": 16,
   "id": "56b4d38e",
   "metadata": {},
   "source": [
    "df.replace('\\\\N', np.nan, inplace=True)"
   ],
   "outputs": []
  },
  {
   "cell_type": "code",
   "execution_count": 17,
   "id": "ffd7641d",
   "metadata": {},
   "source": [
    "df.isnull().sum()"
   ],
   "outputs": []
  },
  {
   "cell_type": "code",
   "execution_count": 18,
   "id": "c46f93e1",
   "metadata": {},
   "source": [
    "df.dropna(inplace=True)"
   ],
   "outputs": []
  },
  {
   "cell_type": "code",
   "execution_count": 19,
   "id": "aebdfc72",
   "metadata": {},
   "source": [
    "def check_detail(dataframe):\n",
    "    d = {'SHAPE': dataframe.shape,\n",
    "        'COLUMNS': dataframe.columns,\n",
    "        'INDEX': dataframe.index,\n",
    "        'VALUE TYPES': dataframe.dtypes,\n",
    "        'DUPLICATED VALUES': dataframe.duplicated().sum(),\n",
    "        'NUMBER OF UNIQUE VALUES': dataframe.nunique(),\n",
    "        'ANY MISSING VALUES': dataframe.isnull().values.any(),\n",
    "        'MISSING VALUES': dataframe.isnull().sum(),\n",
    "        'DESCRIBE.T': dataframe.describe([0, 0.05, 0.50, 0.95, 0.99, 1]).T}\n",
    "    hashtags = '---------------------------'\n",
    "    for key, val in d.items():\n",
    "        print(f'{hashtags} {key} {hashtags}')\n",
    "        print(val)\n",
    "    print(f'{hashtags} {\"LIST END\"} {hashtags}')\n",
    "   \n",
    "\n",
    "check_detail(dataframe=df)\n"
   ],
   "outputs": []
  },
  {
   "cell_type": "code",
   "execution_count": 20,
   "id": "314b9be0",
   "metadata": {},
   "source": [
    "df.GENRES.value_counts().plot.pie(autopct=\"%.0f%%\",figsize=(6,6),pctdistance=0.8,\n",
    "                                              wedgeprops=dict(width=0.4))\n",
    "plt.show()"
   ],
   "outputs": []
  },
  {
   "cell_type": "code",
   "execution_count": 21,
   "id": "323c1a38",
   "metadata": {},
   "source": [
    "from sklearn.feature_extraction.text import CountVectorizer\n",
    "temp = df.GENRES.dropna()\n",
    "vec = CountVectorizer(token_pattern='(?u)\\\\b[\\\\w-]+\\\\b', analyzer='word').fit(temp)\n",
    "bag_of_genres = vec.transform(temp)\n",
    "unique_genres =  vec.get_feature_names()\n",
    "np.array(unique_genres)"
   ],
   "outputs": []
  },
  {
   "cell_type": "code",
   "execution_count": 22,
   "id": "09f843f2",
   "metadata": {},
   "source": [
    "GENRES = pd.DataFrame(bag_of_genres.todense(),columns=unique_genres,index=temp.index)\n",
    "sorted_genres_perc = 100*pd.Series(GENRES.sum()).sort_values(ascending=False)/GENRES.shape[0]\n",
    "plt.figure(figsize=(15,8))\n",
    "sns.barplot(x=sorted_genres_perc.values,y=sorted_genres_perc.index,orient=\"h\")\n",
    "plt.xlabel(\"Percentage of Films (%)\")\n",
    "plt.show()"
   ],
   "outputs": []
  },
  {
   "cell_type": "code",
   "execution_count": 23,
   "id": "2ccdbeab",
   "metadata": {},
   "source": [
    "df['combined_features'] = df['ORIGINAL_TITLE'] + ' ' + df['GENRES'] + ' ' + df['DIRECTORS']\n",
    "# Replace periods (.) with empty strings and commas (,) with spaces\n",
    "df['combined_features'] = df['combined_features'].str.replace('.', '', regex=False)\n",
    "df['combined_features'] = df['combined_features'].str.replace(',', ' ', regex=False)\n",
    "df['combined_features'] = df['combined_features'].str.lower()\n",
    "df.head()"
   ],
   "outputs": []
  },
  {
   "cell_type": "code",
   "execution_count": 24,
   "id": "5b372896",
   "metadata": {},
   "source": [
    "df = df[(df['VOTE_COUNT'] > 2000) & (df['TYPE'] == 'movie')]"
   ],
   "outputs": []
  },
  {
   "cell_type": "code",
   "execution_count": 26,
   "id": "307f4161",
   "metadata": {},
   "source": [
    "df = df.reset_index(drop=True)\n",
    "df.shape"
   ],
   "outputs": []
  },
  {
   "cell_type": "code",
   "execution_count": 27,
   "id": "2e4e4cee",
   "metadata": {},
   "source": [
    "from sklearn.feature_extraction.text import TfidfVectorizer\n",
    "from sklearn.metrics.pairwise import cosine_similarity"
   ],
   "outputs": []
  },
  {
   "cell_type": "code",
   "execution_count": 28,
   "id": "4f800b26",
   "metadata": {},
   "source": [
    "df[\"combined_features\"].head()"
   ],
   "outputs": []
  },
  {
   "cell_type": "code",
   "execution_count": 29,
   "id": "f8ef5cbd",
   "metadata": {},
   "source": [
    "tfidf = TfidfVectorizer()\n",
    "\n",
    "tfidf_matrix = tfidf.fit_transform(df['combined_features'])"
   ],
   "outputs": []
  },
  {
   "cell_type": "code",
   "execution_count": 30,
   "id": "12a70862",
   "metadata": {},
   "source": [
    "tfidf_matrix.shape"
   ],
   "outputs": []
  },
  {
   "cell_type": "code",
   "execution_count": 31,
   "id": "7bc195a1",
   "metadata": {},
   "source": [
    "tfidf.get_feature_names()"
   ],
   "outputs": []
  },
  {
   "cell_type": "code",
   "execution_count": 32,
   "id": "dc1be3f9",
   "metadata": {},
   "source": [
    "tfidf_matrix.toarray()"
   ],
   "outputs": []
  },
  {
   "cell_type": "code",
   "execution_count": 33,
   "id": "ed260d4b",
   "metadata": {},
   "source": [
    "cosine_sim = cosine_similarity(tfidf_matrix,\n",
    "                               tfidf_matrix)"
   ],
   "outputs": []
  },
  {
   "cell_type": "code",
   "execution_count": 34,
   "id": "ef5be091",
   "metadata": {},
   "source": [
    "cosine_sim.shape\n",
    "cosine_sim[1]"
   ],
   "outputs": []
  },
  {
   "cell_type": "code",
   "execution_count": 36,
   "id": "da7f3f81",
   "metadata": {},
   "source": [
    "# Benzerliklere gore onerilerin yapilmasi\n",
    "indices = pd.Series(df.index, index=df['ORIGINAL_TITLE'])\n",
    "\n",
    "# Ayni isimdekileri sil sadece sonuncusunu birak\n",
    "indices = indices[~indices.index.duplicated(keep='last')]\n",
    "\n",
    "movie_index = indices['Se7en']"
   ],
   "outputs": []
  },
  {
   "cell_type": "code",
   "execution_count": 37,
   "id": "5f4e5a49",
   "metadata": {},
   "source": [
    "def get_similar_movies(movie_index, cosine_sim, df, top_n=5):\n",
    "    if 0 <= movie_index < len(cosine_sim):\n",
    "        similarity_scores = list(enumerate(cosine_sim[movie_index]))\n",
    "        similarity_scores = sorted(similarity_scores, key=lambda x: x[1], reverse=True)\n",
    "        movie_indices = [i for i, _ in similarity_scores[1:top_n+1]]  # Exclude the movie itself\n",
    "        return df.iloc[movie_indices]\n",
    "    else:\n",
    "        return f\"Index {movie_index} is out of bounds.\""
   ],
   "outputs": []
  },
  {
   "cell_type": "code",
   "execution_count": 38,
   "id": "8e3f9198",
   "metadata": {},
   "source": [
    "movie_index = indices['Se7en'] # Replace with the index of the movie you want to find similarities for\n",
    "similar_movies_df = get_similar_movies(movie_index, cosine_sim, df)\n",
    "\n",
    "print(similar_movies_df)"
   ],
   "outputs": []
  },
  {
   "cell_type": "code",
   "execution_count": null,
   "id": "914be50b",
   "metadata": {},
   "source": [],
   "outputs": []
  }
 ],
 "metadata": {
  "kernelspec": {
   "display_name": "Python 3 (ipykernel)",
   "language": "python",
   "name": "python3"
  },
  "language_info": {
   "codemirror_mode": {
    "name": "ipython",
    "version": 3
   },
   "file_extension": ".py",
   "mimetype": "text/x-python",
   "name": "python",
   "nbconvert_exporter": "python",
   "pygments_lexer": "ipython3",
   "version": "3.9.13"
  }
 },
 "nbformat": 4,
 "nbformat_minor": 5
}
