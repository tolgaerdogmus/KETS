{
 "cells": [
  {
   "cell_type": "code",
   "execution_count": 1,
   "id": "8e19cf86",
   "metadata": {},
   "source": [
    "import pandas as pd\n",
    "import numpy as np\n",
    "\n",
    "from sklearn.feature_extraction.text import TfidfVectorizer\n",
    "from sklearn.metrics.pairwise import cosine_similarity\n",
    "\n",
    "pd.set_option('display.max_columns', None)\n",
    "pd.set_option('display.float_format', lambda x: '%.3f' % x)\n",
    "pd.set_option('display.width', 500)\n",
    "pd.set_option('display.expand_frame_repr', False)"
   ],
   "outputs": []
  },
  {
   "cell_type": "code",
   "execution_count": 2,
   "id": "6fa4ef72",
   "metadata": {},
   "source": [
    "df = pd.read_csv('movies_31-tem.csv', low_memory=False)\n",
    "df.head()"
   ],
   "outputs": []
  },
  {
   "cell_type": "code",
   "execution_count": 3,
   "id": "5132e67a",
   "metadata": {},
   "source": [
    "df.info()"
   ],
   "outputs": []
  },
  {
   "cell_type": "code",
   "execution_count": 4,
   "id": "359be3d7",
   "metadata": {},
   "source": [
    "df['YEAR'] = pd.to_datetime(df['YEAR'])\n",
    "df['YEAR'] = df['YEAR'].dt.year"
   ],
   "outputs": []
  },
  {
   "cell_type": "code",
   "execution_count": 5,
   "id": "c4c9df0c",
   "metadata": {},
   "source": [
    "pd.set_option('display.max_rows', None)\n",
    "df['YEAR'].sort_values(ascending=False).head(5)"
   ],
   "outputs": []
  },
  {
   "cell_type": "code",
   "execution_count": 6,
   "id": "ad9317cc",
   "metadata": {},
   "source": [
    "#'Nostalji': (1906, 1979),'Retro': (1980, 1989), 'Mazi': (1990, 1999), 'Yeniler': (2000, 2009), 'Günümüz': (2010, 2022)"
   ],
   "outputs": []
  },
  {
   "cell_type": "code",
   "execution_count": 7,
   "id": "48e79b22",
   "metadata": {},
   "source": [
    "bins = [1905, 1979, 1989, 1999, 2009, 2022]\n",
    "labels = ['Nostalji', 'Retro', 'Mazi', 'Yeniler', 'Günümüz']\n",
    "df['CATEGORY'] = pd.cut(df['YEAR'], bins=bins, labels=labels, right=True)"
   ],
   "outputs": []
  },
  {
   "cell_type": "code",
   "execution_count": 8,
   "id": "0a0f3f56",
   "metadata": {},
   "source": [
    "df.head()"
   ],
   "outputs": []
  },
  {
   "cell_type": "code",
   "execution_count": 9,
   "id": "deafa5a4",
   "metadata": {},
   "source": [
    "#1)Direk Sütun Bazlı Seçme.Seçtiğimiz kategoriye göre istediğimiz sayıda rastgele film getirme\n",
    "def get_titles_by_category(df, category, num_titles):\n",
    "    \"\"\"\n",
    "    Belirli bir kategoriye göre istenilen sayıda 'ORIGINAL_TITLE' döndürür.\n",
    "    \n",
    "    Args:\n",
    "    df (pd.DataFrame): Verileri içeren DataFrame\n",
    "    category (str): Filtrelemek istenilen kategori\n",
    "    num_titles (int): Döndürülmek istenilen başlık sayısı\n",
    "    \n",
    "    Returns:\n",
    "    list: Belirtilen kategoriye göre başlık listesi\n",
    "    \"\"\"\n",
    "    # Kategoriye göre filtrele\n",
    "    filtered_df = df[df['CATEGORY'] == category]\n",
    "    \n",
    "    # İlk 'num_titles' kadar 'ORIGINAL_TITLE' al\n",
    "    titles = filtered_df['ORIGINAL_TITLE'].head(num_titles).tolist()\n",
    "    \n",
    "    return titles\n",
    "\n",
    "# Fonksiyonu test edelim\n",
    "category_to_filter = 'Nostalji'\n",
    "number_of_titles = 3\n",
    "titles = get_titles_by_category(df, category_to_filter, number_of_titles)\n",
    "print(titles)"
   ],
   "outputs": []
  },
  {
   "cell_type": "code",
   "execution_count": 10,
   "id": "b4cc455d",
   "metadata": {},
   "source": [
    "##2) KATEGORİLERE GÖRE EN POPÜLER FİLMLERİ GETİRME (NOT:Tolganın en popüler filmleri getirme yani \"recommend_most_popular\" fonksiyonuna \"CATEGORY\" şartını ekledim)\n",
    "def recommend_most_popular_per_category(df):\n",
    "    # Create an empty list to store recommendations\n",
    "    recommendations = []\n",
    "\n",
    "    # Get all unique categories\n",
    "    all_categories = df['CATEGORY'].dropna().unique()\n",
    "\n",
    "    for category in all_categories:\n",
    "        # Filter the dataset by the selected category\n",
    "        category_filter = df['CATEGORY'] == category\n",
    "        filtered_df = df[category_filter]\n",
    "\n",
    "        if not filtered_df.empty:\n",
    "            # Get the most popular movie for this category\n",
    "            # Sort by VOTE_COUNT and AVG_RATING and select the top one\n",
    "            most_popular = filtered_df.sort_values(by=['VOTE_COUNT', 'AVG_RATING'], ascending=False).iloc[0] \n",
    "            recommendations.append(most_popular)\n",
    "\n",
    "    # Create a DataFrame for the recommendations\n",
    "    recommendations_df = pd.DataFrame(recommendations)\n",
    "\n",
    "    # Ensure the DataFrame has the required columns\n",
    "    if not recommendations_df.empty:\n",
    "        # Select relevant columns to display, ensuring all columns exist\n",
    "        columns_to_display = ['TCONST', 'ORIGINAL_TITLE', 'TYPE', 'AVG_RATING', 'VOTE_COUNT', 'CATEGORY']\n",
    "        recommendations_df = recommendations_df[[\n",
    "            col for col in columns_to_display if col in recommendations_df.columns\n",
    "        ]]\n",
    "\n",
    "    return recommendations_df\n",
    "\n",
    "# Example usage:\n",
    "print(recommend_most_popular_per_category(df))"
   ],
   "outputs": []
  },
  {
   "cell_type": "code",
   "execution_count": 11,
   "id": "ae786d29",
   "metadata": {},
   "source": [
    "###3)KATEGORİLERE GÖRE EN POPÜLER 5 FİLMİ GETİRME (NOT:Most_Popüler Fonksiyonuna CATEGORY şartını ekledim)\n",
    "def recommend_top_5_per_category(df):\n",
    "    # Create an empty list to store recommendations\n",
    "    recommendations = []\n",
    "\n",
    "    # Get all unique categories\n",
    "    all_categories = df['CATEGORY'].dropna().unique()\n",
    "\n",
    "    for category in all_categories:\n",
    "        # Filter the dataset by the selected category\n",
    "        category_filter = df['CATEGORY'] == category\n",
    "        filtered_df = df[category_filter]\n",
    "\n",
    "        if not filtered_df.empty:\n",
    "            # Get the top 5 movies for this category\n",
    "            # Sort by VOTE_COUNT and AVG_RATING and select the top 5\n",
    "            top_5 = filtered_df.sort_values(by=['VOTE_COUNT', 'AVG_RATING'], ascending=False).head(5)\n",
    "            recommendations.append(top_5)\n",
    "\n",
    "    # Concatenate all the top 5 DataFrames into one DataFrame\n",
    "    recommendations_df = pd.concat(recommendations)\n",
    "\n",
    "    # Ensure the DataFrame has the required columns\n",
    "    if not recommendations_df.empty:\n",
    "        # Select relevant columns to display, ensuring all columns exist\n",
    "        columns_to_display = ['TCONST', 'ORIGINAL_TITLE', 'TYPE', 'AVG_RATING', 'VOTE_COUNT', 'CATEGORY']\n",
    "        recommendations_df = recommendations_df[[\n",
    "            col for col in columns_to_display if col in recommendations_df.columns\n",
    "        ]]\n",
    "\n",
    "    return recommendations_df\n",
    "\n",
    "# Örnek kullanım:\n",
    "print(recommend_top_5_per_category(df))"
   ],
   "outputs": []
  },
  {
   "cell_type": "code",
   "execution_count": 12,
   "id": "22e984c5",
   "metadata": {},
   "source": [
    "####4)SEÇTİĞİMİZ KATEGORİYE GÖRE EN POPÜLER FİLMLERİ SEÇME (NOT:Most_Popüler Fonksiyonuna CATEGORY şartını ekledim)\n",
    "def recommend_top_5_per_category(df, category):\n",
    "    # Filter the dataset by the selected category\n",
    "    category_filter = df['CATEGORY'] == category\n",
    "    filtered_df = df[category_filter]\n",
    "\n",
    "    if not filtered_df.empty:\n",
    "        # Get the top 5 movies for this category\n",
    "        # Sort by VOTE_COUNT and AVG_RATING and select the top 5\n",
    "        top_5 = filtered_df.sort_values(by=['VOTE_COUNT', 'AVG_RATING'], ascending=False).head(5)\n",
    "\n",
    "        # Create a DataFrame for the recommendations\n",
    "        recommendations_df = top_5\n",
    "\n",
    "        # Ensure the DataFrame has the required columns\n",
    "        if not recommendations_df.empty:\n",
    "            # Select relevant columns to display, ensuring all columns exist\n",
    "            columns_to_display = ['TCONST', 'ORIGINAL_TITLE', 'TYPE', 'AVG_RATING', 'VOTE_COUNT', 'CATEGORY']\n",
    "            recommendations_df = recommendations_df[[\n",
    "                col for col in columns_to_display if col in recommendations_df.columns\n",
    "            ]]\n",
    "\n",
    "        return recommendations_df\n",
    "    else:\n",
    "        return pd.DataFrame(columns=['TCONST', 'ORIGINAL_TITLE', 'TYPE', 'AVG_RATING', 'VOTE_COUNT', 'CATEGORY'])\n",
    "\n",
    "\n",
    "# Example usage:\n",
    "category = 'Retro'\n",
    "print(recommend_top_5_per_category(df, category))"
   ],
   "outputs": []
  },
  {
   "cell_type": "code",
   "execution_count": null,
   "id": "4e4a38bd",
   "metadata": {},
   "source": [],
   "outputs": []
  }
 ],
 "metadata": {
  "kernelspec": {
   "display_name": "Python 3 (ipykernel)",
   "language": "python",
   "name": "python3"
  },
  "language_info": {
   "codemirror_mode": {
    "name": "ipython",
    "version": 3
   },
   "file_extension": ".py",
   "mimetype": "text/x-python",
   "name": "python",
   "nbconvert_exporter": "python",
   "pygments_lexer": "ipython3",
   "version": "3.9.13"
  }
 },
 "nbformat": 4,
 "nbformat_minor": 5
}
