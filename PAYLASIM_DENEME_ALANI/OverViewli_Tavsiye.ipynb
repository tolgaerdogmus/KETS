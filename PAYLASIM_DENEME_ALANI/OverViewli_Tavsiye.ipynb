{
 "cells": [
  {
   "cell_type": "code",
   "execution_count": 1,
   "id": "1a879f81",
   "metadata": {},
   "source": [
    "import pandas as pd\n",
    "import numpy as np\n",
    "import matplotlib.pyplot as plt\n",
    "import seaborn as sns\n",
    "sns.set(style=\"darkgrid\")\n",
    "plt.style.use(\"seaborn-pastel\")\n",
    "from sklearn import preprocessing\n",
    "pd.set_option('display.max_columns', None)\n",
    "pd.set_option('display.float_format', lambda x: '%.3f' % x)\n",
    "pd.set_option('display.width', 500)\n",
    "pd.set_option('display.max_rows', 200)\n",
    "import warnings\n",
    "warnings.filterwarnings(\"ignore\")"
   ],
   "outputs": []
  },
  {
   "cell_type": "code",
   "execution_count": 2,
   "id": "7922a9e1",
   "metadata": {},
   "source": [
    "df=pd.read_csv('movies.csv')\n",
    "df.head()"
   ],
   "outputs": []
  },
  {
   "cell_type": "code",
   "execution_count": 3,
   "id": "0051d24f",
   "metadata": {},
   "source": [
    "df=df[df['IS_ADULT']!=1]"
   ],
   "outputs": []
  },
  {
   "cell_type": "code",
   "execution_count": 4,
   "id": "0861d01a",
   "metadata": {},
   "source": [
    "df=df.drop(columns=['Unnamed: 0', 'POPULARITY', 'POSTER_PATH', 'IS_ADULT'])"
   ],
   "outputs": []
  },
  {
   "cell_type": "code",
   "execution_count": 5,
   "id": "6eb0c020",
   "metadata": {},
   "source": [
    "df.describe([0, 0.05, 0.50, 0.75, 0.85, 0.90, 0.95, 0.99, 1]).T"
   ],
   "outputs": []
  },
  {
   "cell_type": "code",
   "execution_count": 6,
   "id": "8e732839",
   "metadata": {},
   "source": [
    "df[df['VOTE_COUNT'] > 10000].count()"
   ],
   "outputs": []
  },
  {
   "cell_type": "code",
   "execution_count": 7,
   "id": "70832b7e",
   "metadata": {},
   "source": [
    "df = df[(df['VOTE_COUNT'] > 5000) & (df['TYPE'] == 'movie')]"
   ],
   "outputs": []
  },
  {
   "cell_type": "code",
   "execution_count": 8,
   "id": "0bd934bf",
   "metadata": {},
   "source": [
    "df.head()"
   ],
   "outputs": []
  },
  {
   "cell_type": "code",
   "execution_count": 9,
   "id": "fff38e9a",
   "metadata": {},
   "source": [
    "def check_detail(dataframe):\n",
    "    d = {'SHAPE': dataframe.shape,\n",
    "        'COLUMNS': dataframe.columns,\n",
    "        'INDEX': dataframe.index,\n",
    "        'VALUE TYPES': dataframe.dtypes,\n",
    "        'DUPLICATED VALUES': dataframe.duplicated().sum(),\n",
    "        'NUMBER OF UNIQUE VALUES': dataframe.nunique(),\n",
    "        'ANY MISSING VALUES': dataframe.isnull().values.any(),\n",
    "        'MISSING VALUES': dataframe.isnull().sum(),\n",
    "        'DESCRIBE.T': dataframe.describe([0, 0.05, 0.50, 0.95, 0.99, 1]).T}\n",
    "    hashtags = '---------------------------'\n",
    "    for key, val in d.items():\n",
    "        print(f'{hashtags} {key} {hashtags}')\n",
    "        print(val)\n",
    "    print(f'{hashtags} {\"LIST END\"} {hashtags}')\n",
    "   \n",
    "\n",
    "check_detail(dataframe=df)"
   ],
   "outputs": []
  },
  {
   "cell_type": "code",
   "execution_count": 10,
   "id": "4e2d0367",
   "metadata": {},
   "source": [
    "def grab_col_names(dataframe, cat_th=10, car_th=20):\n",
    "    cat_cols = [col for col in dataframe.columns if dataframe[col].dtype == 'O']  # Categorical columns\n",
    "    num_but_cat = [col for col in dataframe.columns if\n",
    "                   dataframe[col].nunique() < cat_th and dataframe[col].dtype != 'O']  # Numeric but categorical\n",
    "    cat_but_car = [col for col in dataframe.columns if\n",
    "                   dataframe[col].nunique() > car_th and dataframe[col].dtype == 'O']  # Categorical but cardinal\n",
    "    cat_cols += num_but_cat  # Combine categorical columns\n",
    "    cat_cols = [col for col in cat_cols if col not in cat_but_car]  # Exclude cardinal columns from categorical columns\n",
    "\n",
    "    num_cols = [col for col in dataframe.columns if dataframe[col].dtype != 'O']  # Numerical columns\n",
    "    num_cols = [col for col in num_cols if col not in num_but_cat]  # Exclude numeric-looking categories\n",
    "\n",
    "    print(f'Observations: {dataframe.shape[0]}')\n",
    "    print(f'Variables: {dataframe.shape[1]}')\n",
    "    print(f'cat_cols: {len(cat_cols)}')\n",
    "    print(f'num_cols: {len(num_cols)}')\n",
    "    print(f'cat_but_car: {len(cat_but_car)}')\n",
    "    print(f'num_but_cat: {len(num_but_cat)}')\n",
    "\n",
    "    return cat_cols, num_cols, cat_but_car\n",
    "def identify_check(dataframe):\n",
    "    print('-' * 80)\n",
    "    print(f'Categorical : {cat_cols}')\n",
    "    print('-' * 80)\n",
    "    print(f'Numerical : {num_cols}')\n",
    "    print('-' * 80)\n",
    "    print(f'Categorical but Cardinal : {cat_but_car}')\n",
    "\n",
    "cat_cols, num_cols, cat_but_car = grab_col_names(df)\n",
    "identify_check(df)"
   ],
   "outputs": []
  },
  {
   "cell_type": "code",
   "execution_count": 11,
   "id": "a52d26a7",
   "metadata": {},
   "source": [
    "df.TYPE.value_counts().plot.pie(autopct=\"%.0f%%\",figsize=(6,6),pctdistance=0.8,\n",
    "                                                 wedgeprops=dict(width=0.4))\n",
    "plt.show()"
   ],
   "outputs": []
  },
  {
   "cell_type": "code",
   "execution_count": 12,
   "id": "4c4e360c",
   "metadata": {},
   "source": [
    "df.replace('\\\\N', np.nan, inplace=True)"
   ],
   "outputs": []
  },
  {
   "cell_type": "code",
   "execution_count": 13,
   "id": "6bcca0b8",
   "metadata": {},
   "source": [
    "df.isnull().sum()"
   ],
   "outputs": []
  },
  {
   "cell_type": "code",
   "execution_count": 14,
   "id": "d09c6499",
   "metadata": {},
   "source": [
    "df = df[df['OVERVIEW'].notna()]"
   ],
   "outputs": []
  },
  {
   "cell_type": "code",
   "execution_count": 15,
   "id": "8f60ea47",
   "metadata": {},
   "source": [
    "df.head(5)"
   ],
   "outputs": []
  },
  {
   "cell_type": "code",
   "execution_count": 16,
   "id": "532500ab",
   "metadata": {},
   "source": [
    "df.isnull().sum()"
   ],
   "outputs": []
  },
  {
   "cell_type": "code",
   "execution_count": 17,
   "id": "c731d790",
   "metadata": {},
   "source": [
    "from sklearn.feature_extraction.text import TfidfVectorizer\n",
    "from sklearn.metrics.pairwise import cosine_similarity"
   ],
   "outputs": []
  },
  {
   "cell_type": "code",
   "execution_count": 18,
   "id": "8ae4faa8",
   "metadata": {},
   "source": [
    "df[\"OVERVIEW\"].head()"
   ],
   "outputs": []
  },
  {
   "cell_type": "code",
   "execution_count": 19,
   "id": "54464521",
   "metadata": {},
   "source": [
    "tfidf = TfidfVectorizer(stop_words='english')"
   ],
   "outputs": []
  },
  {
   "cell_type": "code",
   "execution_count": 20,
   "id": "30f97e3e",
   "metadata": {},
   "source": [
    "tfidf_matrix = tfidf.fit_transform(df['OVERVIEW'])"
   ],
   "outputs": []
  },
  {
   "cell_type": "code",
   "execution_count": 21,
   "id": "b8733a7a",
   "metadata": {},
   "source": [
    "tfidf_matrix.shape"
   ],
   "outputs": []
  },
  {
   "cell_type": "code",
   "execution_count": 22,
   "id": "97693078",
   "metadata": {},
   "source": [
    "tfidf.get_feature_names()"
   ],
   "outputs": []
  },
  {
   "cell_type": "code",
   "execution_count": 23,
   "id": "b5b91488",
   "metadata": {},
   "source": [
    "tfidf_matrix.toarray()"
   ],
   "outputs": []
  },
  {
   "cell_type": "code",
   "execution_count": 24,
   "id": "4228657f",
   "metadata": {},
   "source": [
    "cosine_sim = cosine_similarity(tfidf_matrix,\n",
    "                               tfidf_matrix)"
   ],
   "outputs": []
  },
  {
   "cell_type": "code",
   "execution_count": 25,
   "id": "9eddc8ec",
   "metadata": {},
   "source": [
    "cosine_sim.shape"
   ],
   "outputs": []
  },
  {
   "cell_type": "code",
   "execution_count": 26,
   "id": "e8549226",
   "metadata": {},
   "source": [
    "cosine_sim[1]"
   ],
   "outputs": []
  },
  {
   "cell_type": "code",
   "execution_count": 27,
   "id": "54c1d93d",
   "metadata": {},
   "source": [
    "indices = pd.Series(df.index, index=df['ORIGINAL_TITLE'])"
   ],
   "outputs": []
  },
  {
   "cell_type": "code",
   "execution_count": 28,
   "id": "47ff1b76",
   "metadata": {},
   "source": [
    "indices = indices[~indices.index.duplicated(keep='last')]"
   ],
   "outputs": []
  },
  {
   "cell_type": "code",
   "execution_count": 29,
   "id": "e0ff90d1",
   "metadata": {},
   "source": [
    "movie_index = indices['Way Down East']"
   ],
   "outputs": []
  },
  {
   "cell_type": "code",
   "execution_count": 30,
   "id": "3e479f8a",
   "metadata": {},
   "source": [
    "cosine_sim[movie_index]"
   ],
   "outputs": []
  },
  {
   "cell_type": "code",
   "execution_count": 31,
   "id": "a597c40d",
   "metadata": {},
   "source": [
    "similarity_scores = pd.DataFrame(cosine_sim[movie_index],\n",
    "                                 columns=[\"score\"])"
   ],
   "outputs": []
  },
  {
   "cell_type": "code",
   "execution_count": 32,
   "id": "23c0a74c",
   "metadata": {},
   "source": [
    "movie_indices = similarity_scores.sort_values(\"score\", ascending=False)[1:11].index"
   ],
   "outputs": []
  },
  {
   "cell_type": "code",
   "execution_count": 33,
   "id": "0fdad8db",
   "metadata": {},
   "source": [
    "df['ORIGINAL_TITLE'].iloc[movie_indices]"
   ],
   "outputs": []
  },
  {
   "cell_type": "code",
   "execution_count": 34,
   "id": "72040385",
   "metadata": {},
   "source": [
    "def content_based_recommender(title, cosine_sim, dataframe):\n",
    "    # index'leri olusturma\n",
    "    indices = pd.Series(dataframe.index, index=dataframe['ORIGINAL_TITLE'])\n",
    "    indices = indices[~indices.index.duplicated(keep='last')]\n",
    "    # title'ın index'ini yakalama\n",
    "    movie_index = indices[title]\n",
    "    # title'a gore benzerlik skorlarını hesapalama\n",
    "    similarity_scores = pd.DataFrame(cosine_sim[movie_index], columns=[\"score\"])\n",
    "    # kendisi haric ilk 10 filmi getirme\n",
    "    movie_indices = similarity_scores.sort_values(\"score\", ascending=False)[1:11].index\n",
    "    return dataframe['ORIGINAL_TITLE'].iloc[movie_indices]"
   ],
   "outputs": []
  },
  {
   "cell_type": "code",
   "execution_count": 35,
   "id": "6befe93b",
   "metadata": {},
   "source": [
    "content_based_recommender('Way Down East', cosine_sim, df)"
   ],
   "outputs": []
  },
  {
   "cell_type": "code",
   "execution_count": 36,
   "id": "90d8ec28",
   "metadata": {},
   "source": [
    "content_based_recommender('Orphans of the Storm', cosine_sim, df)"
   ],
   "outputs": []
  },
  {
   "cell_type": "code",
   "execution_count": null,
   "id": "1721dc9a",
   "metadata": {},
   "source": [],
   "outputs": []
  }
 ],
 "metadata": {
  "kernelspec": {
   "display_name": "Python 3 (ipykernel)",
   "language": "python",
   "name": "python3"
  },
  "language_info": {
   "codemirror_mode": {
    "name": "ipython",
    "version": 3
   },
   "file_extension": ".py",
   "mimetype": "text/x-python",
   "name": "python",
   "nbconvert_exporter": "python",
   "pygments_lexer": "ipython3",
   "version": "3.9.13"
  }
 },
 "nbformat": 4,
 "nbformat_minor": 5
}
